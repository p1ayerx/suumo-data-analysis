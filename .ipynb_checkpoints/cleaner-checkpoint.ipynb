{
 "cells": [
  {
   "cell_type": "code",
   "execution_count": 1,
   "metadata": {},
   "outputs": [],
   "source": [
    "import pandas as pd\n",
    "import pandas_profiling as pdp"
   ]
  },
  {
   "cell_type": "code",
   "execution_count": 6,
   "metadata": {},
   "outputs": [
    {
     "data": {
      "application/vnd.jupyter.widget-view+json": {
       "model_id": "789f96a05fc440998cafd53b2ef41655",
       "version_major": 2,
       "version_minor": 0
      },
      "text/plain": [
       "HBox(children=(FloatProgress(value=0.0, description='variables', max=14.0, style=ProgressStyle(description_wid…"
      ]
     },
     "metadata": {},
     "output_type": "display_data"
    },
    {
     "name": "stdout",
     "output_type": "stream",
     "text": [
      "\n"
     ]
    },
    {
     "data": {
      "application/vnd.jupyter.widget-view+json": {
       "model_id": "6e5a29cb6b544abba2f3342aead7f029",
       "version_major": 2,
       "version_minor": 0
      },
      "text/plain": [
       "HBox(children=(FloatProgress(value=0.0, description='correlations', max=6.0, style=ProgressStyle(description_w…"
      ]
     },
     "metadata": {},
     "output_type": "display_data"
    },
    {
     "name": "stdout",
     "output_type": "stream",
     "text": [
      "\n"
     ]
    },
    {
     "data": {
      "application/vnd.jupyter.widget-view+json": {
       "model_id": "6d26491fd9a844ceb0679fb33b6ce78e",
       "version_major": 2,
       "version_minor": 0
      },
      "text/plain": [
       "HBox(children=(FloatProgress(value=1.0, bar_style='info', description='interactions [continuous]', max=1.0, st…"
      ]
     },
     "metadata": {},
     "output_type": "display_data"
    },
    {
     "name": "stdout",
     "output_type": "stream",
     "text": [
      "\n"
     ]
    },
    {
     "data": {
      "application/vnd.jupyter.widget-view+json": {
       "model_id": "5112b2602d0b42ddab891db6e0c67ccb",
       "version_major": 2,
       "version_minor": 0
      },
      "text/plain": [
       "HBox(children=(FloatProgress(value=0.0, description='table', max=1.0, style=ProgressStyle(description_width='i…"
      ]
     },
     "metadata": {},
     "output_type": "display_data"
    },
    {
     "name": "stdout",
     "output_type": "stream",
     "text": [
      "\n"
     ]
    },
    {
     "data": {
      "application/vnd.jupyter.widget-view+json": {
       "model_id": "fc7d6507e8f545c2b3eb418ef4384e40",
       "version_major": 2,
       "version_minor": 0
      },
      "text/plain": [
       "HBox(children=(FloatProgress(value=0.0, description='missing', max=2.0, style=ProgressStyle(description_width=…"
      ]
     },
     "metadata": {},
     "output_type": "display_data"
    },
    {
     "name": "stderr",
     "output_type": "stream",
     "text": [
      "/Users/inori/miniconda3/lib/python3.7/site-packages/matplotlib/textpath.py:84: RuntimeWarning: Glyph 12510 missing from current font.\n",
      "  font.set_text(s, 0.0, flags=LOAD_NO_HINTING)\n",
      "/Users/inori/miniconda3/lib/python3.7/site-packages/matplotlib/textpath.py:84: RuntimeWarning: Glyph 12531 missing from current font.\n",
      "  font.set_text(s, 0.0, flags=LOAD_NO_HINTING)\n",
      "/Users/inori/miniconda3/lib/python3.7/site-packages/matplotlib/textpath.py:84: RuntimeWarning: Glyph 12471 missing from current font.\n",
      "  font.set_text(s, 0.0, flags=LOAD_NO_HINTING)\n",
      "/Users/inori/miniconda3/lib/python3.7/site-packages/matplotlib/textpath.py:84: RuntimeWarning: Glyph 12519 missing from current font.\n",
      "  font.set_text(s, 0.0, flags=LOAD_NO_HINTING)\n",
      "/Users/inori/miniconda3/lib/python3.7/site-packages/matplotlib/textpath.py:84: RuntimeWarning: Glyph 21517 missing from current font.\n",
      "  font.set_text(s, 0.0, flags=LOAD_NO_HINTING)\n",
      "/Users/inori/miniconda3/lib/python3.7/site-packages/matplotlib/textpath.py:84: RuntimeWarning: Glyph 20303 missing from current font.\n",
      "  font.set_text(s, 0.0, flags=LOAD_NO_HINTING)\n",
      "/Users/inori/miniconda3/lib/python3.7/site-packages/matplotlib/textpath.py:84: RuntimeWarning: Glyph 25152 missing from current font.\n",
      "  font.set_text(s, 0.0, flags=LOAD_NO_HINTING)\n",
      "/Users/inori/miniconda3/lib/python3.7/site-packages/matplotlib/textpath.py:84: RuntimeWarning: Glyph 31435 missing from current font.\n",
      "  font.set_text(s, 0.0, flags=LOAD_NO_HINTING)\n",
      "/Users/inori/miniconda3/lib/python3.7/site-packages/matplotlib/textpath.py:84: RuntimeWarning: Glyph 22320 missing from current font.\n",
      "  font.set_text(s, 0.0, flags=LOAD_NO_HINTING)\n",
      "/Users/inori/miniconda3/lib/python3.7/site-packages/matplotlib/textpath.py:84: RuntimeWarning: Glyph 31689 missing from current font.\n",
      "  font.set_text(s, 0.0, flags=LOAD_NO_HINTING)\n",
      "/Users/inori/miniconda3/lib/python3.7/site-packages/matplotlib/textpath.py:84: RuntimeWarning: Glyph 24180 missing from current font.\n",
      "  font.set_text(s, 0.0, flags=LOAD_NO_HINTING)\n",
      "/Users/inori/miniconda3/lib/python3.7/site-packages/matplotlib/textpath.py:84: RuntimeWarning: Glyph 25968 missing from current font.\n",
      "  font.set_text(s, 0.0, flags=LOAD_NO_HINTING)\n",
      "/Users/inori/miniconda3/lib/python3.7/site-packages/matplotlib/textpath.py:84: RuntimeWarning: Glyph 24314 missing from current font.\n",
      "  font.set_text(s, 0.0, flags=LOAD_NO_HINTING)\n",
      "/Users/inori/miniconda3/lib/python3.7/site-packages/matplotlib/textpath.py:84: RuntimeWarning: Glyph 29289 missing from current font.\n",
      "  font.set_text(s, 0.0, flags=LOAD_NO_HINTING)\n",
      "/Users/inori/miniconda3/lib/python3.7/site-packages/matplotlib/textpath.py:84: RuntimeWarning: Glyph 12398 missing from current font.\n",
      "  font.set_text(s, 0.0, flags=LOAD_NO_HINTING)\n",
      "/Users/inori/miniconda3/lib/python3.7/site-packages/matplotlib/textpath.py:84: RuntimeWarning: Glyph 39640 missing from current font.\n",
      "  font.set_text(s, 0.0, flags=LOAD_NO_HINTING)\n",
      "/Users/inori/miniconda3/lib/python3.7/site-packages/matplotlib/textpath.py:84: RuntimeWarning: Glyph 12373 missing from current font.\n",
      "  font.set_text(s, 0.0, flags=LOAD_NO_HINTING)\n",
      "/Users/inori/miniconda3/lib/python3.7/site-packages/matplotlib/textpath.py:84: RuntimeWarning: Glyph 38542 missing from current font.\n",
      "  font.set_text(s, 0.0, flags=LOAD_NO_HINTING)\n",
      "/Users/inori/miniconda3/lib/python3.7/site-packages/matplotlib/textpath.py:84: RuntimeWarning: Glyph 23652 missing from current font.\n",
      "  font.set_text(s, 0.0, flags=LOAD_NO_HINTING)\n",
      "/Users/inori/miniconda3/lib/python3.7/site-packages/matplotlib/textpath.py:84: RuntimeWarning: Glyph 36035 missing from current font.\n",
      "  font.set_text(s, 0.0, flags=LOAD_NO_HINTING)\n",
      "/Users/inori/miniconda3/lib/python3.7/site-packages/matplotlib/textpath.py:84: RuntimeWarning: Glyph 26009 missing from current font.\n",
      "  font.set_text(s, 0.0, flags=LOAD_NO_HINTING)\n",
      "/Users/inori/miniconda3/lib/python3.7/site-packages/matplotlib/textpath.py:84: RuntimeWarning: Glyph 31649 missing from current font.\n",
      "  font.set_text(s, 0.0, flags=LOAD_NO_HINTING)\n",
      "/Users/inori/miniconda3/lib/python3.7/site-packages/matplotlib/textpath.py:84: RuntimeWarning: Glyph 29702 missing from current font.\n",
      "  font.set_text(s, 0.0, flags=LOAD_NO_HINTING)\n",
      "/Users/inori/miniconda3/lib/python3.7/site-packages/matplotlib/textpath.py:84: RuntimeWarning: Glyph 36027 missing from current font.\n",
      "  font.set_text(s, 0.0, flags=LOAD_NO_HINTING)\n",
      "/Users/inori/miniconda3/lib/python3.7/site-packages/matplotlib/textpath.py:84: RuntimeWarning: Glyph 25975 missing from current font.\n",
      "  font.set_text(s, 0.0, flags=LOAD_NO_HINTING)\n",
      "/Users/inori/miniconda3/lib/python3.7/site-packages/matplotlib/textpath.py:84: RuntimeWarning: Glyph 31036 missing from current font.\n",
      "  font.set_text(s, 0.0, flags=LOAD_NO_HINTING)\n",
      "/Users/inori/miniconda3/lib/python3.7/site-packages/matplotlib/textpath.py:84: RuntimeWarning: Glyph 20445 missing from current font.\n",
      "  font.set_text(s, 0.0, flags=LOAD_NO_HINTING)\n",
      "/Users/inori/miniconda3/lib/python3.7/site-packages/matplotlib/textpath.py:84: RuntimeWarning: Glyph 35388 missing from current font.\n",
      "  font.set_text(s, 0.0, flags=LOAD_NO_HINTING)\n",
      "/Users/inori/miniconda3/lib/python3.7/site-packages/matplotlib/textpath.py:84: RuntimeWarning: Glyph 24341 missing from current font.\n",
      "  font.set_text(s, 0.0, flags=LOAD_NO_HINTING)\n",
      "/Users/inori/miniconda3/lib/python3.7/site-packages/matplotlib/textpath.py:84: RuntimeWarning: Glyph 20767 missing from current font.\n",
      "  font.set_text(s, 0.0, flags=LOAD_NO_HINTING)\n",
      "/Users/inori/miniconda3/lib/python3.7/site-packages/matplotlib/textpath.py:84: RuntimeWarning: Glyph 21364 missing from current font.\n",
      "  font.set_text(s, 0.0, flags=LOAD_NO_HINTING)\n",
      "/Users/inori/miniconda3/lib/python3.7/site-packages/matplotlib/textpath.py:84: RuntimeWarning: Glyph 38291 missing from current font.\n",
      "  font.set_text(s, 0.0, flags=LOAD_NO_HINTING)\n",
      "/Users/inori/miniconda3/lib/python3.7/site-packages/matplotlib/textpath.py:84: RuntimeWarning: Glyph 21462 missing from current font.\n",
      "  font.set_text(s, 0.0, flags=LOAD_NO_HINTING)\n",
      "/Users/inori/miniconda3/lib/python3.7/site-packages/matplotlib/textpath.py:84: RuntimeWarning: Glyph 12426 missing from current font.\n",
      "  font.set_text(s, 0.0, flags=LOAD_NO_HINTING)\n",
      "/Users/inori/miniconda3/lib/python3.7/site-packages/matplotlib/textpath.py:84: RuntimeWarning: Glyph 23554 missing from current font.\n",
      "  font.set_text(s, 0.0, flags=LOAD_NO_HINTING)\n",
      "/Users/inori/miniconda3/lib/python3.7/site-packages/matplotlib/textpath.py:84: RuntimeWarning: Glyph 26377 missing from current font.\n",
      "  font.set_text(s, 0.0, flags=LOAD_NO_HINTING)\n",
      "/Users/inori/miniconda3/lib/python3.7/site-packages/matplotlib/textpath.py:84: RuntimeWarning: Glyph 38754 missing from current font.\n",
      "  font.set_text(s, 0.0, flags=LOAD_NO_HINTING)\n",
      "/Users/inori/miniconda3/lib/python3.7/site-packages/matplotlib/textpath.py:84: RuntimeWarning: Glyph 31309 missing from current font.\n",
      "  font.set_text(s, 0.0, flags=LOAD_NO_HINTING)\n",
      "/Users/inori/miniconda3/lib/python3.7/site-packages/matplotlib/textpath.py:84: RuntimeWarning: Glyph 35443 missing from current font.\n",
      "  font.set_text(s, 0.0, flags=LOAD_NO_HINTING)\n",
      "/Users/inori/miniconda3/lib/python3.7/site-packages/matplotlib/textpath.py:84: RuntimeWarning: Glyph 32048 missing from current font.\n",
      "  font.set_text(s, 0.0, flags=LOAD_NO_HINTING)\n",
      "/Users/inori/miniconda3/lib/python3.7/site-packages/matplotlib/backends/backend_agg.py:214: RuntimeWarning: Glyph 12510 missing from current font.\n",
      "  font.set_text(s, 0.0, flags=flags)\n",
      "/Users/inori/miniconda3/lib/python3.7/site-packages/matplotlib/backends/backend_agg.py:214: RuntimeWarning: Glyph 12531 missing from current font.\n",
      "  font.set_text(s, 0.0, flags=flags)\n",
      "/Users/inori/miniconda3/lib/python3.7/site-packages/matplotlib/backends/backend_agg.py:214: RuntimeWarning: Glyph 12471 missing from current font.\n",
      "  font.set_text(s, 0.0, flags=flags)\n",
      "/Users/inori/miniconda3/lib/python3.7/site-packages/matplotlib/backends/backend_agg.py:214: RuntimeWarning: Glyph 12519 missing from current font.\n",
      "  font.set_text(s, 0.0, flags=flags)\n",
      "/Users/inori/miniconda3/lib/python3.7/site-packages/matplotlib/backends/backend_agg.py:214: RuntimeWarning: Glyph 21517 missing from current font.\n",
      "  font.set_text(s, 0.0, flags=flags)\n",
      "/Users/inori/miniconda3/lib/python3.7/site-packages/matplotlib/backends/backend_agg.py:214: RuntimeWarning: Glyph 20303 missing from current font.\n",
      "  font.set_text(s, 0.0, flags=flags)\n",
      "/Users/inori/miniconda3/lib/python3.7/site-packages/matplotlib/backends/backend_agg.py:214: RuntimeWarning: Glyph 25152 missing from current font.\n",
      "  font.set_text(s, 0.0, flags=flags)\n",
      "/Users/inori/miniconda3/lib/python3.7/site-packages/matplotlib/backends/backend_agg.py:214: RuntimeWarning: Glyph 31435 missing from current font.\n",
      "  font.set_text(s, 0.0, flags=flags)\n",
      "/Users/inori/miniconda3/lib/python3.7/site-packages/matplotlib/backends/backend_agg.py:214: RuntimeWarning: Glyph 22320 missing from current font.\n",
      "  font.set_text(s, 0.0, flags=flags)\n",
      "/Users/inori/miniconda3/lib/python3.7/site-packages/matplotlib/backends/backend_agg.py:214: RuntimeWarning: Glyph 31689 missing from current font.\n",
      "  font.set_text(s, 0.0, flags=flags)\n",
      "/Users/inori/miniconda3/lib/python3.7/site-packages/matplotlib/backends/backend_agg.py:214: RuntimeWarning: Glyph 24180 missing from current font.\n",
      "  font.set_text(s, 0.0, flags=flags)\n",
      "/Users/inori/miniconda3/lib/python3.7/site-packages/matplotlib/backends/backend_agg.py:214: RuntimeWarning: Glyph 25968 missing from current font.\n",
      "  font.set_text(s, 0.0, flags=flags)\n",
      "/Users/inori/miniconda3/lib/python3.7/site-packages/matplotlib/backends/backend_agg.py:214: RuntimeWarning: Glyph 24314 missing from current font.\n",
      "  font.set_text(s, 0.0, flags=flags)\n",
      "/Users/inori/miniconda3/lib/python3.7/site-packages/matplotlib/backends/backend_agg.py:214: RuntimeWarning: Glyph 29289 missing from current font.\n",
      "  font.set_text(s, 0.0, flags=flags)\n",
      "/Users/inori/miniconda3/lib/python3.7/site-packages/matplotlib/backends/backend_agg.py:214: RuntimeWarning: Glyph 12398 missing from current font.\n",
      "  font.set_text(s, 0.0, flags=flags)\n",
      "/Users/inori/miniconda3/lib/python3.7/site-packages/matplotlib/backends/backend_agg.py:214: RuntimeWarning: Glyph 39640 missing from current font.\n",
      "  font.set_text(s, 0.0, flags=flags)\n",
      "/Users/inori/miniconda3/lib/python3.7/site-packages/matplotlib/backends/backend_agg.py:214: RuntimeWarning: Glyph 12373 missing from current font.\n",
      "  font.set_text(s, 0.0, flags=flags)\n",
      "/Users/inori/miniconda3/lib/python3.7/site-packages/matplotlib/backends/backend_agg.py:214: RuntimeWarning: Glyph 38542 missing from current font.\n",
      "  font.set_text(s, 0.0, flags=flags)\n",
      "/Users/inori/miniconda3/lib/python3.7/site-packages/matplotlib/backends/backend_agg.py:214: RuntimeWarning: Glyph 23652 missing from current font.\n",
      "  font.set_text(s, 0.0, flags=flags)\n",
      "/Users/inori/miniconda3/lib/python3.7/site-packages/matplotlib/backends/backend_agg.py:214: RuntimeWarning: Glyph 36035 missing from current font.\n",
      "  font.set_text(s, 0.0, flags=flags)\n",
      "/Users/inori/miniconda3/lib/python3.7/site-packages/matplotlib/backends/backend_agg.py:214: RuntimeWarning: Glyph 26009 missing from current font.\n",
      "  font.set_text(s, 0.0, flags=flags)\n",
      "/Users/inori/miniconda3/lib/python3.7/site-packages/matplotlib/backends/backend_agg.py:214: RuntimeWarning: Glyph 31649 missing from current font.\n",
      "  font.set_text(s, 0.0, flags=flags)\n",
      "/Users/inori/miniconda3/lib/python3.7/site-packages/matplotlib/backends/backend_agg.py:214: RuntimeWarning: Glyph 29702 missing from current font.\n",
      "  font.set_text(s, 0.0, flags=flags)\n",
      "/Users/inori/miniconda3/lib/python3.7/site-packages/matplotlib/backends/backend_agg.py:214: RuntimeWarning: Glyph 36027 missing from current font.\n",
      "  font.set_text(s, 0.0, flags=flags)\n",
      "/Users/inori/miniconda3/lib/python3.7/site-packages/matplotlib/backends/backend_agg.py:214: RuntimeWarning: Glyph 25975 missing from current font.\n",
      "  font.set_text(s, 0.0, flags=flags)\n",
      "/Users/inori/miniconda3/lib/python3.7/site-packages/matplotlib/backends/backend_agg.py:214: RuntimeWarning: Glyph 31036 missing from current font.\n",
      "  font.set_text(s, 0.0, flags=flags)\n",
      "/Users/inori/miniconda3/lib/python3.7/site-packages/matplotlib/backends/backend_agg.py:214: RuntimeWarning: Glyph 20445 missing from current font.\n",
      "  font.set_text(s, 0.0, flags=flags)\n",
      "/Users/inori/miniconda3/lib/python3.7/site-packages/matplotlib/backends/backend_agg.py:214: RuntimeWarning: Glyph 35388 missing from current font.\n",
      "  font.set_text(s, 0.0, flags=flags)\n",
      "/Users/inori/miniconda3/lib/python3.7/site-packages/matplotlib/backends/backend_agg.py:214: RuntimeWarning: Glyph 24341 missing from current font.\n",
      "  font.set_text(s, 0.0, flags=flags)\n",
      "/Users/inori/miniconda3/lib/python3.7/site-packages/matplotlib/backends/backend_agg.py:214: RuntimeWarning: Glyph 20767 missing from current font.\n",
      "  font.set_text(s, 0.0, flags=flags)\n",
      "/Users/inori/miniconda3/lib/python3.7/site-packages/matplotlib/backends/backend_agg.py:214: RuntimeWarning: Glyph 21364 missing from current font.\n",
      "  font.set_text(s, 0.0, flags=flags)\n",
      "/Users/inori/miniconda3/lib/python3.7/site-packages/matplotlib/backends/backend_agg.py:214: RuntimeWarning: Glyph 38291 missing from current font.\n",
      "  font.set_text(s, 0.0, flags=flags)\n",
      "/Users/inori/miniconda3/lib/python3.7/site-packages/matplotlib/backends/backend_agg.py:214: RuntimeWarning: Glyph 21462 missing from current font.\n",
      "  font.set_text(s, 0.0, flags=flags)\n",
      "/Users/inori/miniconda3/lib/python3.7/site-packages/matplotlib/backends/backend_agg.py:214: RuntimeWarning: Glyph 12426 missing from current font.\n",
      "  font.set_text(s, 0.0, flags=flags)\n",
      "/Users/inori/miniconda3/lib/python3.7/site-packages/matplotlib/backends/backend_agg.py:214: RuntimeWarning: Glyph 23554 missing from current font.\n",
      "  font.set_text(s, 0.0, flags=flags)\n",
      "/Users/inori/miniconda3/lib/python3.7/site-packages/matplotlib/backends/backend_agg.py:214: RuntimeWarning: Glyph 26377 missing from current font.\n",
      "  font.set_text(s, 0.0, flags=flags)\n",
      "/Users/inori/miniconda3/lib/python3.7/site-packages/matplotlib/backends/backend_agg.py:214: RuntimeWarning: Glyph 38754 missing from current font.\n",
      "  font.set_text(s, 0.0, flags=flags)\n",
      "/Users/inori/miniconda3/lib/python3.7/site-packages/matplotlib/backends/backend_agg.py:214: RuntimeWarning: Glyph 31309 missing from current font.\n",
      "  font.set_text(s, 0.0, flags=flags)\n",
      "/Users/inori/miniconda3/lib/python3.7/site-packages/matplotlib/backends/backend_agg.py:214: RuntimeWarning: Glyph 35443 missing from current font.\n",
      "  font.set_text(s, 0.0, flags=flags)\n",
      "/Users/inori/miniconda3/lib/python3.7/site-packages/matplotlib/backends/backend_agg.py:214: RuntimeWarning: Glyph 32048 missing from current font.\n",
      "  font.set_text(s, 0.0, flags=flags)\n",
      "/Users/inori/miniconda3/lib/python3.7/site-packages/matplotlib/backends/backend_agg.py:183: RuntimeWarning: Glyph 12510 missing from current font.\n",
      "  font.set_text(s, 0, flags=flags)\n",
      "/Users/inori/miniconda3/lib/python3.7/site-packages/matplotlib/backends/backend_agg.py:183: RuntimeWarning: Glyph 12531 missing from current font.\n",
      "  font.set_text(s, 0, flags=flags)\n",
      "/Users/inori/miniconda3/lib/python3.7/site-packages/matplotlib/backends/backend_agg.py:183: RuntimeWarning: Glyph 12471 missing from current font.\n",
      "  font.set_text(s, 0, flags=flags)\n",
      "/Users/inori/miniconda3/lib/python3.7/site-packages/matplotlib/backends/backend_agg.py:183: RuntimeWarning: Glyph 12519 missing from current font.\n",
      "  font.set_text(s, 0, flags=flags)\n",
      "/Users/inori/miniconda3/lib/python3.7/site-packages/matplotlib/backends/backend_agg.py:183: RuntimeWarning: Glyph 21517 missing from current font.\n",
      "  font.set_text(s, 0, flags=flags)\n",
      "/Users/inori/miniconda3/lib/python3.7/site-packages/matplotlib/backends/backend_agg.py:183: RuntimeWarning: Glyph 20303 missing from current font.\n",
      "  font.set_text(s, 0, flags=flags)\n",
      "/Users/inori/miniconda3/lib/python3.7/site-packages/matplotlib/backends/backend_agg.py:183: RuntimeWarning: Glyph 25152 missing from current font.\n",
      "  font.set_text(s, 0, flags=flags)\n",
      "/Users/inori/miniconda3/lib/python3.7/site-packages/matplotlib/backends/backend_agg.py:183: RuntimeWarning: Glyph 31435 missing from current font.\n",
      "  font.set_text(s, 0, flags=flags)\n",
      "/Users/inori/miniconda3/lib/python3.7/site-packages/matplotlib/backends/backend_agg.py:183: RuntimeWarning: Glyph 22320 missing from current font.\n",
      "  font.set_text(s, 0, flags=flags)\n",
      "/Users/inori/miniconda3/lib/python3.7/site-packages/matplotlib/backends/backend_agg.py:183: RuntimeWarning: Glyph 31689 missing from current font.\n",
      "  font.set_text(s, 0, flags=flags)\n",
      "/Users/inori/miniconda3/lib/python3.7/site-packages/matplotlib/backends/backend_agg.py:183: RuntimeWarning: Glyph 24180 missing from current font.\n",
      "  font.set_text(s, 0, flags=flags)\n",
      "/Users/inori/miniconda3/lib/python3.7/site-packages/matplotlib/backends/backend_agg.py:183: RuntimeWarning: Glyph 25968 missing from current font.\n",
      "  font.set_text(s, 0, flags=flags)\n",
      "/Users/inori/miniconda3/lib/python3.7/site-packages/matplotlib/backends/backend_agg.py:183: RuntimeWarning: Glyph 24314 missing from current font.\n",
      "  font.set_text(s, 0, flags=flags)\n",
      "/Users/inori/miniconda3/lib/python3.7/site-packages/matplotlib/backends/backend_agg.py:183: RuntimeWarning: Glyph 29289 missing from current font.\n",
      "  font.set_text(s, 0, flags=flags)\n",
      "/Users/inori/miniconda3/lib/python3.7/site-packages/matplotlib/backends/backend_agg.py:183: RuntimeWarning: Glyph 12398 missing from current font.\n",
      "  font.set_text(s, 0, flags=flags)\n",
      "/Users/inori/miniconda3/lib/python3.7/site-packages/matplotlib/backends/backend_agg.py:183: RuntimeWarning: Glyph 39640 missing from current font.\n",
      "  font.set_text(s, 0, flags=flags)\n",
      "/Users/inori/miniconda3/lib/python3.7/site-packages/matplotlib/backends/backend_agg.py:183: RuntimeWarning: Glyph 12373 missing from current font.\n",
      "  font.set_text(s, 0, flags=flags)\n",
      "/Users/inori/miniconda3/lib/python3.7/site-packages/matplotlib/backends/backend_agg.py:183: RuntimeWarning: Glyph 38542 missing from current font.\n",
      "  font.set_text(s, 0, flags=flags)\n",
      "/Users/inori/miniconda3/lib/python3.7/site-packages/matplotlib/backends/backend_agg.py:183: RuntimeWarning: Glyph 23652 missing from current font.\n",
      "  font.set_text(s, 0, flags=flags)\n",
      "/Users/inori/miniconda3/lib/python3.7/site-packages/matplotlib/backends/backend_agg.py:183: RuntimeWarning: Glyph 36035 missing from current font.\n",
      "  font.set_text(s, 0, flags=flags)\n",
      "/Users/inori/miniconda3/lib/python3.7/site-packages/matplotlib/backends/backend_agg.py:183: RuntimeWarning: Glyph 26009 missing from current font.\n",
      "  font.set_text(s, 0, flags=flags)\n",
      "/Users/inori/miniconda3/lib/python3.7/site-packages/matplotlib/backends/backend_agg.py:183: RuntimeWarning: Glyph 31649 missing from current font.\n",
      "  font.set_text(s, 0, flags=flags)\n",
      "/Users/inori/miniconda3/lib/python3.7/site-packages/matplotlib/backends/backend_agg.py:183: RuntimeWarning: Glyph 29702 missing from current font.\n",
      "  font.set_text(s, 0, flags=flags)\n",
      "/Users/inori/miniconda3/lib/python3.7/site-packages/matplotlib/backends/backend_agg.py:183: RuntimeWarning: Glyph 36027 missing from current font.\n",
      "  font.set_text(s, 0, flags=flags)\n",
      "/Users/inori/miniconda3/lib/python3.7/site-packages/matplotlib/backends/backend_agg.py:183: RuntimeWarning: Glyph 25975 missing from current font.\n",
      "  font.set_text(s, 0, flags=flags)\n",
      "/Users/inori/miniconda3/lib/python3.7/site-packages/matplotlib/backends/backend_agg.py:183: RuntimeWarning: Glyph 31036 missing from current font.\n",
      "  font.set_text(s, 0, flags=flags)\n",
      "/Users/inori/miniconda3/lib/python3.7/site-packages/matplotlib/backends/backend_agg.py:183: RuntimeWarning: Glyph 20445 missing from current font.\n",
      "  font.set_text(s, 0, flags=flags)\n",
      "/Users/inori/miniconda3/lib/python3.7/site-packages/matplotlib/backends/backend_agg.py:183: RuntimeWarning: Glyph 35388 missing from current font.\n",
      "  font.set_text(s, 0, flags=flags)\n",
      "/Users/inori/miniconda3/lib/python3.7/site-packages/matplotlib/backends/backend_agg.py:183: RuntimeWarning: Glyph 24341 missing from current font.\n",
      "  font.set_text(s, 0, flags=flags)\n",
      "/Users/inori/miniconda3/lib/python3.7/site-packages/matplotlib/backends/backend_agg.py:183: RuntimeWarning: Glyph 20767 missing from current font.\n",
      "  font.set_text(s, 0, flags=flags)\n",
      "/Users/inori/miniconda3/lib/python3.7/site-packages/matplotlib/backends/backend_agg.py:183: RuntimeWarning: Glyph 21364 missing from current font.\n",
      "  font.set_text(s, 0, flags=flags)\n",
      "/Users/inori/miniconda3/lib/python3.7/site-packages/matplotlib/backends/backend_agg.py:183: RuntimeWarning: Glyph 38291 missing from current font.\n",
      "  font.set_text(s, 0, flags=flags)\n",
      "/Users/inori/miniconda3/lib/python3.7/site-packages/matplotlib/backends/backend_agg.py:183: RuntimeWarning: Glyph 21462 missing from current font.\n",
      "  font.set_text(s, 0, flags=flags)\n",
      "/Users/inori/miniconda3/lib/python3.7/site-packages/matplotlib/backends/backend_agg.py:183: RuntimeWarning: Glyph 12426 missing from current font.\n",
      "  font.set_text(s, 0, flags=flags)\n",
      "/Users/inori/miniconda3/lib/python3.7/site-packages/matplotlib/backends/backend_agg.py:183: RuntimeWarning: Glyph 23554 missing from current font.\n",
      "  font.set_text(s, 0, flags=flags)\n",
      "/Users/inori/miniconda3/lib/python3.7/site-packages/matplotlib/backends/backend_agg.py:183: RuntimeWarning: Glyph 26377 missing from current font.\n",
      "  font.set_text(s, 0, flags=flags)\n",
      "/Users/inori/miniconda3/lib/python3.7/site-packages/matplotlib/backends/backend_agg.py:183: RuntimeWarning: Glyph 38754 missing from current font.\n",
      "  font.set_text(s, 0, flags=flags)\n",
      "/Users/inori/miniconda3/lib/python3.7/site-packages/matplotlib/backends/backend_agg.py:183: RuntimeWarning: Glyph 31309 missing from current font.\n",
      "  font.set_text(s, 0, flags=flags)\n",
      "/Users/inori/miniconda3/lib/python3.7/site-packages/matplotlib/backends/backend_agg.py:183: RuntimeWarning: Glyph 35443 missing from current font.\n",
      "  font.set_text(s, 0, flags=flags)\n",
      "/Users/inori/miniconda3/lib/python3.7/site-packages/matplotlib/backends/backend_agg.py:183: RuntimeWarning: Glyph 32048 missing from current font.\n",
      "  font.set_text(s, 0, flags=flags)\n"
     ]
    },
    {
     "name": "stdout",
     "output_type": "stream",
     "text": [
      "\n"
     ]
    },
    {
     "data": {
      "application/vnd.jupyter.widget-view+json": {
       "model_id": "01af2046fbc547aba6963c84253451c3",
       "version_major": 2,
       "version_minor": 0
      },
      "text/plain": [
       "HBox(children=(FloatProgress(value=0.0, description='warnings', max=3.0, style=ProgressStyle(description_width…"
      ]
     },
     "metadata": {},
     "output_type": "display_data"
    },
    {
     "name": "stdout",
     "output_type": "stream",
     "text": [
      "\n"
     ]
    },
    {
     "data": {
      "application/vnd.jupyter.widget-view+json": {
       "model_id": "741aacc14d6e4cc9afd959fd4bdb131c",
       "version_major": 2,
       "version_minor": 0
      },
      "text/plain": [
       "HBox(children=(FloatProgress(value=0.0, description='package', max=1.0, style=ProgressStyle(description_width=…"
      ]
     },
     "metadata": {},
     "output_type": "display_data"
    },
    {
     "name": "stdout",
     "output_type": "stream",
     "text": [
      "\n"
     ]
    },
    {
     "data": {
      "application/vnd.jupyter.widget-view+json": {
       "model_id": "03a73f5b227a4bc5866d38a3daec8a87",
       "version_major": 2,
       "version_minor": 0
      },
      "text/plain": [
       "HBox(children=(FloatProgress(value=0.0, description='build report structure', max=1.0, style=ProgressStyle(des…"
      ]
     },
     "metadata": {},
     "output_type": "display_data"
    },
    {
     "name": "stdout",
     "output_type": "stream",
     "text": [
      "\n"
     ]
    }
   ],
   "source": [
    "df = pd.read_csv(\"suumo.csv\",encoding=\"utf-16\")\n",
    "profile = pdp.ProfileReport(df)\n",
    "profile.to_file(output_file=\"eda.html\")"
   ]
  },
  {
   "cell_type": "code",
   "execution_count": null,
   "metadata": {},
   "outputs": [],
   "source": []
  }
 ],
 "metadata": {
  "kernelspec": {
   "display_name": "Python 3",
   "language": "python",
   "name": "python3"
  },
  "language_info": {
   "codemirror_mode": {
    "name": "ipython",
    "version": 3
   },
   "file_extension": ".py",
   "mimetype": "text/x-python",
   "name": "python",
   "nbconvert_exporter": "python",
   "pygments_lexer": "ipython3",
   "version": "3.7.6"
  }
 },
 "nbformat": 4,
 "nbformat_minor": 4
}
