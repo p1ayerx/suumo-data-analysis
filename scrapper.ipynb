{
 "cells": [
  {
   "cell_type": "code",
   "execution_count": 1,
   "metadata": {},
   "outputs": [],
   "source": [
    "from bs4 import BeautifulSoup\n",
    "import bs4\n",
    "import urllib3\n",
    "import re\n",
    "import requests\n",
    "import time\n",
    "import pandas as pd\n",
    "from pandas import Series, DataFrame\n",
    "import html\n",
    "from light_progress.commandline import ProgressBar"
   ]
  },
  {
   "cell_type": "code",
   "execution_count": 2,
   "metadata": {},
   "outputs": [],
   "source": [
    "from xml.sax.saxutils import unescape"
   ]
  },
  {
   "cell_type": "code",
   "execution_count": 3,
   "metadata": {},
   "outputs": [],
   "source": [
    "url = \"https://suumo.jp/jj/chintai/ichiran/FR301FC001/?ar=030&bs=040&ta=13&sc=13109&cb=0.0&ct=9999999&et=9999999&cn=9999999&mb=0&mt=9999999&shkr1=03&shkr2=03&shkr3=03&shkr4=03&fw2=&srch_navi=1\""
   ]
  },
  {
   "cell_type": "code",
   "execution_count": 4,
   "metadata": {},
   "outputs": [],
   "source": [
    "result = requests.get(url)\n",
    "c = result.content"
   ]
  },
  {
   "cell_type": "code",
   "execution_count": 5,
   "metadata": {},
   "outputs": [],
   "source": [
    "soup = BeautifulSoup(c)"
   ]
  },
  {
   "cell_type": "code",
   "execution_count": 6,
   "metadata": {},
   "outputs": [],
   "source": [
    "summary = soup.find(\"div\",{\"id\": \"js-bukkenList\"})\n",
    "body = soup.find(\"body\")\n",
    "pages = body.find_all(\"div\",{\"class\": \"pagination pagination_set-nav\"})\n",
    "pages_text = str(pages)\n",
    "pages_split = pages_text.split('</a></li>\\n</ol>')\n",
    "pages_number = int(pages_split[0][-3:].replace('>',''))"
   ]
  },
  {
   "cell_type": "code",
   "execution_count": 7,
   "metadata": {},
   "outputs": [],
   "source": [
    "urls = []\n",
    "urls.append(url)"
   ]
  },
  {
   "cell_type": "code",
   "execution_count": 8,
   "metadata": {},
   "outputs": [],
   "source": [
    "for i in range(0,pages_number-1):\n",
    "    pg = str(i+2)\n",
    "    url_page = url + \"&page=\" + pg\n",
    "    urls.append(unescape(url_page))"
   ]
  },
  {
   "cell_type": "code",
   "execution_count": 9,
   "metadata": {},
   "outputs": [],
   "source": [
    "names = [] \n",
    "addresses = [] \n",
    "locations0 = [] \n",
    "locations1 = [] \n",
    "locations2 = [] \n",
    "ages = [] \n",
    "heights = [] \n",
    "floors = []\n",
    "rent = [] \n",
    "admin = []\n",
    "others = [] \n",
    "floor_plans = [] \n",
    "areas = []\n",
    "detail_urls = [] "
   ]
  },
  {
   "cell_type": "code",
   "execution_count": 10,
   "metadata": {},
   "outputs": [
    {
     "name": "stderr",
     "output_type": "stream",
     "text": [
      "\u001b[92m[███████████████████████████████] 100% 30/30 2020-04-21 01:31:31.438457 - 2020-04-21 01:33:01.779376 \u001b[0m\n",
      "\u001b[92m[███████████████████████████████] 100% 30/30 2020-04-21 01:33:04.456116 - 2020-04-21 01:34:34.742512 \u001b[0m\n",
      "\u001b[92m[███████████████████████████████] 100% 30/30 2020-04-21 01:34:39.087723 - 2020-04-21 01:36:09.461436 \u001b[0m\n",
      "\u001b[92m[███████████████████████████████] 100% 30/30 2020-04-21 01:36:12.258953 - 2020-04-21 01:37:42.517221 \u001b[0m\n",
      "\u001b[92m[███████████████████████████████] 100% 30/30 2020-04-21 01:37:46.124931 - 2020-04-21 01:39:16.448715 \u001b[0m\n",
      "\u001b[92m[███████████████████████████████] 100% 30/30 2020-04-21 01:39:20.186683 - 2020-04-21 01:40:50.541643 \u001b[0m\n",
      "\u001b[92m[███████████████████████████████] 100% 30/30 2020-04-21 01:40:53.486523 - 2020-04-21 01:42:23.744020 \u001b[0m\n",
      "\u001b[92m[███████████████████████████████] 100% 30/30 2020-04-21 01:42:26.346859 - 2020-04-21 01:43:56.628640 \u001b[0m\n",
      "\u001b[92m[███████████████████████████████] 100% 30/30 2020-04-21 01:43:59.119961 - 2020-04-21 01:45:29.443850 \u001b[0m\n",
      "\u001b[92m[███████████████████████████████] 100% 30/30 2020-04-21 01:45:33.335052 - 2020-04-21 01:47:03.638140 \u001b[0m\n",
      "\u001b[92m[███████████████████████████████] 100% 30/30 2020-04-21 01:47:07.594281 - 2020-04-21 01:48:37.970392 \u001b[0m\n",
      "\u001b[92m[███████████████████████████████] 100% 30/30 2020-04-21 01:48:39.909677 - 2020-04-21 01:50:10.177164 \u001b[0m\n",
      "\u001b[92m[███████████████████████████████] 100% 30/30 2020-04-21 01:50:12.071136 - 2020-04-21 01:51:42.367975 \u001b[0m\n",
      "\u001b[92m[███████████████████████████████] 100% 30/30 2020-04-21 01:51:45.403132 - 2020-04-21 01:53:15.697449 \u001b[0m\n",
      "\u001b[92m[███████████████████████████████] 100% 30/30 2020-04-21 01:53:18.267441 - 2020-04-21 01:54:48.519457 \u001b[0m\n",
      "\u001b[94m[███████████▉...................] 36% 11/30 2020-04-21 01:54:50.072733 -  \u001b[0m"
     ]
    },
    {
     "ename": "KeyboardInterrupt",
     "evalue": "",
     "output_type": "error",
     "traceback": [
      "\u001b[0;31m---------------------------------------------------------------------------\u001b[0m",
      "\u001b[0;31mKeyboardInterrupt\u001b[0m                         Traceback (most recent call last)",
      "\u001b[0;32m<ipython-input-10-23d790803db7>\u001b[0m in \u001b[0;36m<module>\u001b[0;34m\u001b[0m\n\u001b[1;32m     77\u001b[0m             \u001b[0mdetail_urls\u001b[0m\u001b[0;34m.\u001b[0m\u001b[0mappend\u001b[0m\u001b[0;34m(\u001b[0m\u001b[0mrow\u001b[0m\u001b[0;34m[\u001b[0m\u001b[0;36m6\u001b[0m\u001b[0;34m]\u001b[0m\u001b[0;34m)\u001b[0m\u001b[0;34m\u001b[0m\u001b[0;34m\u001b[0m\u001b[0m\n\u001b[1;32m     78\u001b[0m \u001b[0;34m\u001b[0m\u001b[0m\n\u001b[0;32m---> 79\u001b[0;31m         \u001b[0mtime\u001b[0m\u001b[0;34m.\u001b[0m\u001b[0msleep\u001b[0m\u001b[0;34m(\u001b[0m\u001b[0;36m3\u001b[0m\u001b[0;34m)\u001b[0m\u001b[0;34m\u001b[0m\u001b[0;34m\u001b[0m\u001b[0m\n\u001b[0m\u001b[1;32m     80\u001b[0m \u001b[0;34m\u001b[0m\u001b[0m\n\u001b[1;32m     81\u001b[0m         \u001b[0mapartment_progress\u001b[0m\u001b[0;34m.\u001b[0m\u001b[0mforward\u001b[0m\u001b[0;34m(\u001b[0m\u001b[0;34m)\u001b[0m\u001b[0;34m\u001b[0m\u001b[0;34m\u001b[0m\u001b[0m\n",
      "\u001b[0;31mKeyboardInterrupt\u001b[0m: "
     ]
    }
   ],
   "source": [
    "for url in urls:\n",
    "    soup = BeautifulSoup(requests.get(url).content)\n",
    "    summary = soup.find(\"div\",{\"id\": \"js-bukkenList\"})\n",
    "    apartments = summary.find_all(\"div\",{\"class\":\"cassetteitem\"})\n",
    "\n",
    "    url_progress = ProgressBar(len(urls))\n",
    "    apartment_progress = ProgressBar(len(apartments))\n",
    "    url_progress.start()\n",
    "    apartment_progress.start()\n",
    "    \n",
    "    for apartment in apartments:\n",
    "        room_number = len(apartment.find_all(\"tbody\"))\n",
    "        name = apartment.find('div', class_='cassetteitem_content-title').text\n",
    "        address = apartment.find(\"li\", class_=\"cassetteitem_detail-col1\").text\n",
    "        \n",
    "        for i in range(room_number):\n",
    "            names.append(name)\n",
    "            addresses.append(address)\n",
    "            \n",
    "        sublocation = apartment.find(\"li\", class_=\"cassetteitem_detail-col2\")\n",
    "        cols = sublocation.find_all(\"div\")\n",
    "        \n",
    "        for i in range(len(cols)):\n",
    "            text = cols[i].find(text=True)\n",
    "            for j in range(room_number):\n",
    "                if i == 1 or i == 2 or i == 0:\n",
    "                    locals()[\"locations\"+str(i)].append(text)\n",
    "        \n",
    "        age_and_height = apartment.find(\"li\", class_=\"cassetteitem_detail-col3\")\n",
    "        age = age_and_height(\"div\")[0].text\n",
    "        height = age_and_height(\"div\")[1].text\n",
    "        \n",
    "        for i in range(room_number):\n",
    "            ages.append(age)\n",
    "            heights.append(height)\n",
    "            \n",
    "        table = apartment.find(\"table\")\n",
    "        rows = []\n",
    "        rows.append(table.find_all(\"tr\"))\n",
    "        \n",
    "        data = []\n",
    "        \n",
    "        for row in rows:\n",
    "            for tr in row:\n",
    "                cols = tr.find_all(\"td\")\n",
    "                \n",
    "                if len(cols) != 0:\n",
    "                    _floor = cols[2].text\n",
    "                    _floor = re.sub('[\\r\\n\\t]', '', _floor)\n",
    "\n",
    "                    _rent_cell = cols[3].find('ul').find_all('li')\n",
    "                    _rent = _rent_cell[0].find('span').text\n",
    "                    _admin = _rent_cell[1].find('span').text\n",
    "\n",
    "                    _deposit_cell = cols[4].find('ul').find_all('li')\n",
    "                    _deposit = _deposit_cell[0].find('span').text\n",
    "                    _reikin = _deposit_cell[1].find('span').text\n",
    "                    _others = _deposit + '/' + _reikin\n",
    "\n",
    "                    _floor_cell = cols[5].find('ul').find_all('li')\n",
    "                    _floor_plan = _floor_cell[0].find('span').text\n",
    "                    _area = _floor_cell[1].find('span').text\n",
    "\n",
    "                    _detail_url = cols[8].find('a')['href']\n",
    "                    _detail_url = 'https://suumo.jp' + _detail_url\n",
    "\n",
    "                    text = [_floor, _rent, _admin, _others, _floor_plan, _area, _detail_url]\n",
    "                    data.append(text)\n",
    "\n",
    "        for row in data:\n",
    "            floors.append(row[0])\n",
    "            rent.append(row[1])\n",
    "            admin.append(row[2])\n",
    "            others.append(row[3])\n",
    "            floor_plans.append(row[4])\n",
    "            areas.append(row[5])\n",
    "            detail_urls.append(row[6])\n",
    "            \n",
    "        time.sleep(3)\n",
    "        \n",
    "        apartment_progress.forward()\n",
    "    \n",
    "    apartment_progress.finish()\n",
    "    url_progress.forward()\n",
    "    \n",
    "url_progress.finish()"
   ]
  },
  {
   "cell_type": "code",
   "execution_count": 11,
   "metadata": {},
   "outputs": [],
   "source": [
    "names = Series(names)\n",
    "addresses = Series(addresses)\n",
    "locations0 = Series(locations0)\n",
    "locations1 = Series(locations1)\n",
    "locations2 = Series(locations2)\n",
    "ages = Series(ages)\n",
    "heights = Series(heights)\n",
    "floors = Series(floors)\n",
    "rent = Series(rent)\n",
    "admin = Series(admin)\n",
    "others = Series(others)\n",
    "floor_plans = Series(floor_plans)\n",
    "areas = Series(areas)\n",
    "detail_urls = Series(detail_urls)"
   ]
  },
  {
   "cell_type": "code",
   "execution_count": 12,
   "metadata": {},
   "outputs": [],
   "source": [
    "df = pd.concat([names, addresses, locations0, locations1, locations2, ages, heights, floors, rent, admin, others, floor_plans, areas, detail_urls], axis=1)\n",
    "\n",
    "df.columns=['マンション名','住所','立地1','立地2','立地3','築年数','建物の高さ','階層','賃料料','管理費', '敷/礼/保証/敷引,償却','間取り','専有面積', '詳細URL']"
   ]
  },
  {
   "cell_type": "code",
   "execution_count": 1,
   "metadata": {},
   "outputs": [
    {
     "ename": "NameError",
     "evalue": "name 'df' is not defined",
     "output_type": "error",
     "traceback": [
      "\u001b[0;31m---------------------------------------------------------------------------\u001b[0m",
      "\u001b[0;31mNameError\u001b[0m                                 Traceback (most recent call last)",
      "\u001b[0;32m<ipython-input-1-3d15bad1923a>\u001b[0m in \u001b[0;36m<module>\u001b[0;34m\u001b[0m\n\u001b[0;32m----> 1\u001b[0;31m \u001b[0mdf\u001b[0m\u001b[0;34m.\u001b[0m\u001b[0mto_csv\u001b[0m\u001b[0;34m(\u001b[0m\u001b[0;34m'output/suumo.csv'\u001b[0m\u001b[0;34m,\u001b[0m \u001b[0mencoding\u001b[0m\u001b[0;34m=\u001b[0m\u001b[0;34m'utf-16'\u001b[0m\u001b[0;34m,\u001b[0m \u001b[0mheader\u001b[0m\u001b[0;34m=\u001b[0m\u001b[0;32mTrue\u001b[0m\u001b[0;34m,\u001b[0m \u001b[0mindex\u001b[0m\u001b[0;34m=\u001b[0m\u001b[0;32mFalse\u001b[0m\u001b[0;34m)\u001b[0m\u001b[0;34m\u001b[0m\u001b[0;34m\u001b[0m\u001b[0m\n\u001b[0m",
      "\u001b[0;31mNameError\u001b[0m: name 'df' is not defined"
     ]
    }
   ],
   "source": [
    "df.to_csv('output/suumo.csv', encoding='utf-16', header=True, index=False)"
   ]
  },
  {
   "cell_type": "code",
   "execution_count": null,
   "metadata": {},
   "outputs": [],
   "source": []
  }
 ],
 "metadata": {
  "kernelspec": {
   "display_name": "Python 3",
   "language": "python",
   "name": "python3"
  },
  "language_info": {
   "codemirror_mode": {
    "name": "ipython",
    "version": 3
   },
   "file_extension": ".py",
   "mimetype": "text/x-python",
   "name": "python",
   "nbconvert_exporter": "python",
   "pygments_lexer": "ipython3",
   "version": "3.7.6"
  }
 },
 "nbformat": 4,
 "nbformat_minor": 4
}
